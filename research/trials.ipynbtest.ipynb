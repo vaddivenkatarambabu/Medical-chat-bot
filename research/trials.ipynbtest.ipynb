{
 "cells": [
  {
   "cell_type": "code",
   "execution_count": null,
   "id": "2cbf9b11",
   "metadata": {
    "ExecuteTime": {
     "end_time": "2025-08-29T17:21:49.296881Z",
     "start_time": "2025-08-29T17:21:49.280181Z"
    }
   },
   "outputs": [
    {
     "ename": "",
     "evalue": "",
     "output_type": "error",
     "traceback": [
      "\u001b[1;31mThe kernel failed to start due to the missing module 'packaging'. Consider installing this module.\n",
      "\u001b[1;31mClick <a href='https://aka.ms/kernelFailuresMissingModule'>here</a> for more info."
     ]
    }
   ],
   "source": [
    "%pwd"
   ]
  },
  {
   "cell_type": "code",
   "execution_count": 2,
   "id": "50288bb9",
   "metadata": {
    "ExecuteTime": {
     "end_time": "2025-08-29T17:22:02.662163Z",
     "start_time": "2025-08-29T17:22:02.657098Z"
    }
   },
   "outputs": [],
   "source": [
    "import os\n",
    "os.chdir(\"../\")"
   ]
  },
  {
   "cell_type": "code",
   "execution_count": 3,
   "id": "685086d9",
   "metadata": {
    "ExecuteTime": {
     "end_time": "2025-08-29T17:22:03.511661Z",
     "start_time": "2025-08-29T17:22:03.503596Z"
    }
   },
   "outputs": [
    {
     "data": {
      "text/plain": [
       "'C:\\\\Users\\\\venkatarambabuvaddi\\\\Documents\\\\Projects\\\\Medical-chat-bot'"
      ]
     },
     "execution_count": 3,
     "metadata": {},
     "output_type": "execute_result"
    }
   ],
   "source": [
    "%pwd"
   ]
  },
  {
   "cell_type": "code",
   "execution_count": 4,
   "id": "ff5103aa",
   "metadata": {
    "ExecuteTime": {
     "end_time": "2025-08-29T17:22:04.678902Z",
     "start_time": "2025-08-29T17:22:04.092633Z"
    }
   },
   "outputs": [
    {
     "ename": "ModuleNotFoundError",
     "evalue": "No module named 'langchain_community'",
     "output_type": "error",
     "traceback": [
      "\u001b[31m---------------------------------------------------------------------------\u001b[39m",
      "\u001b[31mModuleNotFoundError\u001b[39m                       Traceback (most recent call last)",
      "\u001b[36mCell\u001b[39m\u001b[36m \u001b[39m\u001b[32mIn[4]\u001b[39m\u001b[32m, line 1\u001b[39m\n\u001b[32m----> \u001b[39m\u001b[32m1\u001b[39m \u001b[38;5;28;01mfrom\u001b[39;00m\u001b[38;5;250m \u001b[39m\u001b[34;01mlangchain_community\u001b[39;00m\u001b[34;01m.\u001b[39;00m\u001b[34;01mdocument_loaders\u001b[39;00m\u001b[38;5;250m \u001b[39m\u001b[38;5;28;01mimport\u001b[39;00m PyPDFLoader,DirectoryLoader\n\u001b[32m      2\u001b[39m \u001b[38;5;28;01mfrom\u001b[39;00m\u001b[38;5;250m \u001b[39m\u001b[34;01mlangchain\u001b[39;00m\u001b[34;01m.\u001b[39;00m\u001b[34;01mtext_splitter\u001b[39;00m\u001b[38;5;250m \u001b[39m\u001b[38;5;28;01mimport\u001b[39;00m RecursiveCharacterTextSplitter\n",
      "\u001b[31mModuleNotFoundError\u001b[39m: No module named 'langchain_community'"
     ]
    }
   ],
   "source": [
    "from langchain_community.document_loaders import PyPDFLoader,DirectoryLoader\n",
    "from langchain.text_splitter import RecursiveCharacterTextSplitter"
   ]
  },
  {
   "cell_type": "code",
   "execution_count": 5,
   "id": "2bcd5f3d",
   "metadata": {
    "ExecuteTime": {
     "end_time": "2025-08-29T17:22:04.945087Z",
     "start_time": "2025-08-29T17:22:04.937872Z"
    }
   },
   "outputs": [],
   "source": [
    "def load_pdf_file(data):\n",
    "    loader=DirectoryLoader(data,\n",
    "                           glob=\"*.pdf\",\n",
    "                           loader_cls=PyPDFLoader)\n",
    "    document = loader.load()\n",
    "    return document"
   ]
  },
  {
   "cell_type": "code",
   "execution_count": null,
   "id": "7358748c",
   "metadata": {},
   "outputs": [],
   "source": [
    "extract_data = load_pdf_file(data=r'C:\\Users\\venkatarambabuvaddi\\Documents\\Projects\\Medical-chat-bot\\Data')"
   ]
  },
  {
   "cell_type": "code",
   "execution_count": null,
   "id": "a2cfe09b",
   "metadata": {},
   "outputs": [],
   "source": [
    "extract_data"
   ]
  },
  {
   "cell_type": "code",
   "execution_count": null,
   "id": "aa21edd0",
   "metadata": {},
   "outputs": [],
   "source": [
    "#Split te data into Text chunks.\n",
    "def text_split(extract_data):\n",
    "    splitter = RecursiveCharacterTextSplitter(chunk_size=500, chunk_overlap=10)\n",
    "    text_chunks = splitter.split_documents(extract_data)\n",
    "    return text_chunks\n"
   ]
  },
  {
   "cell_type": "code",
   "execution_count": null,
   "id": "6654edce",
   "metadata": {},
   "outputs": [],
   "source": [
    "text_chunks = text_split(extract_data)\n",
    "print(\"Length of text Chunks\",len(text_chunks))"
   ]
  },
  {
   "cell_type": "code",
   "execution_count": null,
   "id": "6906ced2",
   "metadata": {},
   "outputs": [],
   "source": [
    "text_chunks"
   ]
  },
  {
   "cell_type": "code",
   "execution_count": null,
   "id": "5dcaea54",
   "metadata": {},
   "outputs": [],
   "source": [
    "from langchain_huggingface import HuggingFaceEmbeddings"
   ]
  },
  {
   "cell_type": "code",
   "execution_count": null,
   "id": "fcf6e545",
   "metadata": {},
   "outputs": [],
   "source": [
    "#download the Embedding from Hugging face\n",
    "def download_hugging_face_embeddings():\n",
    "    embeddings = HuggingFaceEmbeddings(model_name=\"sentence-transformers/all-MiniLM-L6-v2\")\n",
    "    return embeddings"
   ]
  },
  {
   "cell_type": "code",
   "execution_count": null,
   "id": "034be89b",
   "metadata": {},
   "outputs": [],
   "source": [
    "embeddings = download_hugging_face_embeddings()"
   ]
  },
  {
   "cell_type": "code",
   "execution_count": null,
   "id": "5eed7a66",
   "metadata": {},
   "outputs": [],
   "source": [
    "query_result = embeddings.embed_query(\"Hello world\")\n",
    "print(\"Length\",len(query_result))"
   ]
  },
  {
   "cell_type": "code",
   "execution_count": null,
   "id": "ef2aec8a",
   "metadata": {},
   "outputs": [],
   "source": [
    "query_result"
   ]
  },
  {
   "cell_type": "code",
   "execution_count": null,
   "id": "83edb8f0",
   "metadata": {},
   "outputs": [],
   "source": [
    "import os\n",
    "from dotenv import load_dotenv\n",
    "load_dotenv(r'C:\\Users\\venkatarambabuvaddi\\Documents\\Projects\\Medical-chat-bot\\.env')"
   ]
  },
  {
   "cell_type": "code",
   "execution_count": null,
   "id": "a76a7309",
   "metadata": {},
   "outputs": [],
   "source": [
    "import os\n",
    "\n",
    "API_KEY=os.getenv(\"API_KEY\")\n",
    "OPENAI_KEY=os.getenv(\"OPENAI_API_KEY\")\n",
    "\n",
    "print(\"API_KEY:\",API_KEY)\n",
    "print(\"OPENAI_KEY:\",OPENAI_KEY)"
   ]
  },
  {
   "cell_type": "code",
   "execution_count": null,
   "id": "b0b1eedf",
   "metadata": {},
   "outputs": [],
   "source": [
    "from groq import Groq\n",
    "\n",
    "client = Groq(api_key=API_KEY)\n",
    "completion = client.chat.completions.create(\n",
    "    model=\"openai/gpt-oss-20b\",\n",
    "    messages=[\n",
    "      {\n",
    "        \"role\": \"user\",\n",
    "        \"content\": \"Whats is acne\"\n",
    "      }\n",
    "    ],\n",
    "    temperature=1,\n",
    "    max_completion_tokens=8192,\n",
    "    top_p=1,\n",
    "    reasoning_effort=\"medium\",\n",
    "    stream=False,\n",
    "    stop=None\n",
    ")\n",
    "\n",
    "print(completion.choices[0].message)\n",
    "\n"
   ]
  },
  {
   "cell_type": "code",
   "execution_count": null,
   "id": "dbfcbd30",
   "metadata": {},
   "outputs": [],
   "source": [
    "# 4. Store chunks in FAISS vector DB\n",
    "from langchain_community.vectorstores import FAISS\n",
    "\n",
    "docsearch = FAISS.from_documents(\n",
    "    documents=text_chunks,\n",
    "    embedding=embeddings\n",
    ")\n",
    "\n",
    "print(\"FAISS index created successfully!\")"
   ]
  },
  {
   "cell_type": "code",
   "execution_count": null,
   "id": "9d73816a",
   "metadata": {},
   "outputs": [],
   "source": [
    "index_path = \"faiss_index\"\n",
    "\n",
    "if os.path.exists(index_path):\n",
    "    # Load existing FAISS index\n",
    "    docsearch = FAISS.load_local(\n",
    "        index_path,\n",
    "        embeddings,\n",
    "        allow_dangerous_deserialization=True)\n",
    "    print(\"✅ Loaded existing FAISS index.\")"
   ]
  },
  {
   "cell_type": "code",
   "execution_count": null,
   "id": "30d5f1c4",
   "metadata": {},
   "outputs": [],
   "source": [
    "'''from langchain_community.vectorstores import FAISS\n",
    "\n",
    "docsearch.save_local(\"faiss_index\")   # folder name will be created\n",
    "\n",
    " Later: Load index back\n",
    "docsearch = FAISS.load_local(\n",
    "    \"faiss_index\",\n",
    "    embeddings,\n",
    "    allow_dangerous_deserialization=True\n",
    ")\n",
    "\n",
    "print(\"FAISS index loaded successfully!\")'''\n"
   ]
  },
  {
   "cell_type": "code",
   "execution_count": null,
   "id": "e967744b",
   "metadata": {},
   "outputs": [],
   "source": [
    "docsearch"
   ]
  },
  {
   "cell_type": "code",
   "execution_count": null,
   "id": "9473dece",
   "metadata": {},
   "outputs": [],
   "source": [
    "\n",
    "# Convert FAISS into a retriever\n",
    "retriever = docsearch.as_retriever(\n",
    "    search_type=\"similarity\",\n",
    "    search_kwargs={\"k\": 3}\n",
    ")\n",
    "\n",
    "print(\"Retriever ready!\")"
   ]
  },
  {
   "cell_type": "code",
   "execution_count": null,
   "id": "9ebb0ac4",
   "metadata": {},
   "outputs": [],
   "source": [
    "retrived_docs = retriever.invoke(\"What is acne\")\n",
    "print(\"Retriever retrieved successfully!\")"
   ]
  },
  {
   "cell_type": "code",
   "execution_count": null,
   "id": "94e4212e",
   "metadata": {},
   "outputs": [],
   "source": [
    "retrived_docs"
   ]
  },
  {
   "cell_type": "code",
   "execution_count": null,
   "id": "ec9cd1c0",
   "metadata": {},
   "outputs": [],
   "source": [
    "from langchain_openai import ChatOpenAI\n",
    "import os\n",
    "\n",
    "OPENAI_API_KEY = os.getenv(\"OPENAI_API_KEY\")\n",
    "\n",
    "llm = ChatOpenAI(\n",
    "    model=\"gpt-4o-mini\",\n",
    "    temperature=0.7,\n",
    "    api_key=API_KEY  # pass directly\n",
    ")\n",
    "print(\"OpenAI API key is \",OPENAI_API_KEY)"
   ]
  },
  {
   "cell_type": "code",
   "execution_count": null,
   "id": "a96d869e",
   "metadata": {},
   "outputs": [],
   "source": [
    "from langchain.chains import create_retrieval_chain\n",
    "from langchain.chains.combine_documents import create_stuff_documents_chain\n",
    "from langchain.prompts import ChatPromptTemplate\n",
    "\n",
    "\n",
    "system_prompt = (\n",
    "\"You are an assistant for question-answering tasks. \"\n",
    "\"Use the following pieces of retrieved context to answer\"\n",
    "\"the question. If you don't know the answer, say that you\"\n",
    "\"don't know. Use three sentences maximum and keep the\"\n",
    "\"answer concise.\"\n",
    "\"\\n\\n\"\n",
    "\"{context}\"\n",
    ")\n",
    "prompt = ChatPromptTemplate.from_messages(\n",
    "[\n",
    "(\"system\", system_prompt),\n",
    "(\"human\", \"{input}\"),\n",
    "    ]\n",
    ")"
   ]
  },
  {
   "cell_type": "code",
   "execution_count": null,
   "id": "72e6bb36",
   "metadata": {},
   "outputs": [],
   "source": [
    "question_answer_chain = create_stuff_documents_chain(llm,prompt)\n",
    "rag_chain = create_retrieval_chain(retriever,question_answer_chain)"
   ]
  },
  {
   "cell_type": "code",
   "execution_count": null,
   "id": "f5c4e3a0",
   "metadata": {},
   "outputs": [],
   "source": [
    "'''from openai import OpenAI\n",
    "client = OpenAI()\n",
    "\n",
    "response = client.responses.create(\n",
    "    model=\"gpt-5\",\n",
    "    input=\"What is acne\"\n",
    ")\n",
    "\n",
    "print(response.output_text)'''"
   ]
  },
  {
   "cell_type": "code",
   "execution_count": null,
   "id": "672a21c2",
   "metadata": {},
   "outputs": [],
   "source": [
    "'''response = rag_chain.invoke({\"input\":\"what is the acne\"})\n",
    "print(response[\"answer\"])'''"
   ]
  }
 ],
 "metadata": {
  "kernelspec": {
   "display_name": "medibot",
   "language": "python",
   "name": "python3"
  },
  "language_info": {
   "name": "python",
   "version": "3.13.5"
  }
 },
 "nbformat": 4,
 "nbformat_minor": 5
}
